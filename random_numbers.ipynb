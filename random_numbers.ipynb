{
 "cells": [
  {
   "cell_type": "code",
   "execution_count": 1,
   "id": "c1019d8e",
   "metadata": {},
   "outputs": [],
   "source": [
    "import random"
   ]
  },
  {
   "cell_type": "code",
   "execution_count": 2,
   "id": "cb6d26e9",
   "metadata": {},
   "outputs": [],
   "source": [
    "import numpy as np"
   ]
  },
  {
   "cell_type": "code",
   "execution_count": 3,
   "id": "2cb4c06c",
   "metadata": {},
   "outputs": [],
   "source": [
    "# To test how long a piece of code or function takes to run\n",
    "#import timeit"
   ]
  },
  {
   "cell_type": "code",
   "execution_count": 4,
   "id": "562ebc8e",
   "metadata": {},
   "outputs": [
    {
     "data": {
      "text/plain": [
       "0.9898311429473711"
      ]
     },
     "execution_count": 4,
     "metadata": {},
     "output_type": "execute_result"
    }
   ],
   "source": [
    "# it creates a random number with large decimal point\n",
    "random.random()"
   ]
  },
  {
   "cell_type": "code",
   "execution_count": 5,
   "id": "e2143fa9",
   "metadata": {},
   "outputs": [
    {
     "data": {
      "text/plain": [
       "-16.693151932176605"
      ]
     },
     "execution_count": 5,
     "metadata": {},
     "output_type": "execute_result"
    }
   ],
   "source": [
    "# generate a floating-point decimal number between –90.000 and 90.000\n",
    "np.random.uniform(-90.000, 90.000)"
   ]
  },
  {
   "cell_type": "code",
   "execution_count": 6,
   "id": "1b6679be",
   "metadata": {},
   "outputs": [
    {
     "data": {
      "text/plain": [
       "array([-21.87371947, -62.16020857, -10.21536715, -63.70005191,\n",
       "        48.79826669, -65.66679886,  33.90328386, -51.28795106,\n",
       "        -7.55311875, -44.68987767, -31.54994178, -81.64462132,\n",
       "         7.86172969,   4.85675672, -38.33715473, -24.69167858,\n",
       "       -29.97616701,  62.46946963, -39.41948547,  86.03350049,\n",
       "        16.08731538,   8.52727762,  71.34814158,   4.5479946 ,\n",
       "       -72.70734495,  78.6451525 ,  34.94746572, -43.65092829,\n",
       "        82.25314748,  83.70136457,  86.18842006,  31.53307004,\n",
       "        73.61525906,   2.02259955,  38.00615426,  60.00227896,\n",
       "       -81.03246728, -16.0412166 , -44.85890966,  76.22090526,\n",
       "       -58.68021162,  51.28514923,  17.73733404,  82.81827598,\n",
       "        21.17482751, -20.53012862,  -8.14765261, -37.54654883,\n",
       "        32.64638181,  15.67213614])"
      ]
     },
     "execution_count": 6,
     "metadata": {},
     "output_type": "execute_result"
    }
   ],
   "source": [
    "# To generate more than one floating-point\n",
    "np.random.uniform(-90.000, 90.000, size=50)"
   ]
  },
  {
   "cell_type": "code",
   "execution_count": 7,
   "id": "923c5b25",
   "metadata": {},
   "outputs": [
    {
     "data": {
      "text/plain": [
       "-44.77160607286925"
      ]
     },
     "execution_count": 7,
     "metadata": {},
     "output_type": "execute_result"
    }
   ],
   "source": [
    "np.random.uniform(low=-90, high=90)"
   ]
  },
  {
   "cell_type": "code",
   "execution_count": 8,
   "id": "85d47bc6",
   "metadata": {},
   "outputs": [
    {
     "data": {
      "text/plain": [
       "52"
      ]
     },
     "execution_count": 8,
     "metadata": {},
     "output_type": "execute_result"
    }
   ],
   "source": [
    "# random integer with range\n",
    "random.randint(-90, 90)"
   ]
  },
  {
   "cell_type": "code",
   "execution_count": 9,
   "id": "22ce94eb",
   "metadata": {},
   "outputs": [
    {
     "data": {
      "text/plain": [
       "3"
      ]
     },
     "execution_count": 9,
     "metadata": {},
     "output_type": "execute_result"
    }
   ],
   "source": [
    "# steps from lower boundary \n",
    "random.randrange(-9,9,2)"
   ]
  },
  {
   "cell_type": "code",
   "execution_count": 10,
   "id": "8cc5a1f8",
   "metadata": {},
   "outputs": [
    {
     "data": {
      "text/plain": [
       "-9"
      ]
     },
     "execution_count": 10,
     "metadata": {},
     "output_type": "execute_result"
    }
   ],
   "source": [
    "random.randrange(-90, 90, step=1)"
   ]
  },
  {
   "cell_type": "code",
   "execution_count": 11,
   "id": "5deb1f95",
   "metadata": {},
   "outputs": [
    {
     "data": {
      "text/plain": [
       "-36"
      ]
     },
     "execution_count": 11,
     "metadata": {},
     "output_type": "execute_result"
    }
   ],
   "source": [
    "random.randrange(-90, 90, step=3)"
   ]
  },
  {
   "cell_type": "code",
   "execution_count": 12,
   "id": "e22256e9",
   "metadata": {},
   "outputs": [
    {
     "data": {
      "text/plain": [
       "9.881474954968379"
      ]
     },
     "execution_count": 12,
     "metadata": {},
     "output_type": "execute_result"
    }
   ],
   "source": [
    "random.uniform(-10,10)"
   ]
  },
  {
   "cell_type": "code",
   "execution_count": 13,
   "id": "0b625437",
   "metadata": {},
   "outputs": [
    {
     "data": {
      "text/plain": [
       "20.250012793010516"
      ]
     },
     "execution_count": 13,
     "metadata": {},
     "output_type": "execute_result"
    }
   ],
   "source": [
    "random_number = random.randint(-90, 89) + random.random()\n",
    "random_number"
   ]
  },
  {
   "cell_type": "code",
   "execution_count": 14,
   "id": "a8847ac2",
   "metadata": {},
   "outputs": [
    {
     "data": {
      "text/plain": [
       "[-31.15194243456056,\n",
       " -72.0530327054813,\n",
       " -73.83566917318183,\n",
       " 72.172289050385,\n",
       " -57.17922151600888,\n",
       " -20.554190395831036,\n",
       " 72.62482436049788,\n",
       " 8.885209461106095,\n",
       " -45.041876699258715,\n",
       " -76.76653916902801]"
      ]
     },
     "execution_count": 14,
     "metadata": {},
     "output_type": "execute_result"
    }
   ],
   "source": [
    "x = 1\n",
    "latitudes = []\n",
    "while x < 11:\n",
    "    random_lat = random.randint(-90, 89) + random.random()\n",
    "    latitudes.append(random_lat)\n",
    "    x += 1\n",
    "    \n",
    "latitudes"
   ]
  },
  {
   "cell_type": "code",
   "execution_count": 15,
   "id": "e363c20b",
   "metadata": {
    "scrolled": true
   },
   "outputs": [
    {
     "name": "stdout",
     "output_type": "stream",
     "text": [
      "12.1 µs ± 97 ns per loop (mean ± std. dev. of 7 runs, 100000 loops each)\n"
     ]
    }
   ],
   "source": [
    "# To test how long a piece of code or function takes to run\n",
    "\n",
    "%timeit np.random.uniform(-90.000, 90.000, size=1500)"
   ]
  },
  {
   "cell_type": "code",
   "execution_count": 16,
   "id": "df95924a",
   "metadata": {},
   "outputs": [
    {
     "name": "stdout",
     "output_type": "stream",
     "text": [
      "1.47 ms ± 9.85 µs per loop (mean ± std. dev. of 7 runs, 1000 loops each)\n"
     ]
    }
   ],
   "source": [
    "def latitudes(size):\n",
    "    latitudes = []\n",
    "    x = 0\n",
    "    while x < (size):\n",
    "        random_lat = random.randint(-90, 90) + random.random()\n",
    "        latitudes.append(random_lat)\n",
    "        x += 1\n",
    "    return latitudes\n",
    "\n",
    "# Call the function with 1500.\n",
    "%timeit latitudes(1500)"
   ]
  },
  {
   "cell_type": "code",
   "execution_count": null,
   "id": "1ceb0b9d",
   "metadata": {},
   "outputs": [],
   "source": []
  }
 ],
 "metadata": {
  "kernelspec": {
   "display_name": "PythonData",
   "language": "python",
   "name": "pythondata"
  },
  "language_info": {
   "codemirror_mode": {
    "name": "ipython",
    "version": 3
   },
   "file_extension": ".py",
   "mimetype": "text/x-python",
   "name": "python",
   "nbconvert_exporter": "python",
   "pygments_lexer": "ipython3",
   "version": "3.7.10"
  }
 },
 "nbformat": 4,
 "nbformat_minor": 5
}
